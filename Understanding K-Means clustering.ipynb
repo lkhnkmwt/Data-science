{
 "cells": [
  {
   "cell_type": "markdown",
   "id": "9696368c",
   "metadata": {},
   "source": [
    "# Making dataset using make_blobs"
   ]
  },
  {
   "cell_type": "code",
   "execution_count": 3,
   "id": "de08611b",
   "metadata": {},
   "outputs": [],
   "source": [
    "from sklearn.datasets import make_blobs"
   ]
  },
  {
   "cell_type": "code",
   "execution_count": 4,
   "id": "c69d32f0",
   "metadata": {},
   "outputs": [],
   "source": [
    "# Making a dataset of 250 samples with two features and 3 centres(or three clusters).\n",
    "X,Y=make_blobs(n_samples=250,n_features=2,centers=3)"
   ]
  },
  {
   "cell_type": "code",
   "execution_count": 5,
   "id": "afb0e59d",
   "metadata": {},
   "outputs": [],
   "source": [
    "import matplotlib.pyplot as plt"
   ]
  },
  {
   "cell_type": "code",
   "execution_count": 6,
   "id": "828eaae0",
   "metadata": {},
   "outputs": [
    {
     "data": {
      "text/plain": [
       "<matplotlib.collections.PathCollection at 0x26b4f84c460>"
      ]
     },
     "execution_count": 6,
     "metadata": {},
     "output_type": "execute_result"
    },
    {
     "data": {
      "image/png": "[encoded data removed]",
      "text/plain": [
       "<Figure size 432x288 with 1 Axes>"
      ]
     },
     "metadata": {
      "needs_background": "light"
     },
     "output_type": "display_data"
    }
   ],
   "source": [
    "plt.scatter(X[:,0],X[:,1])"
   ]
  },
  {
   "cell_type": "code",
   "execution_count": 7,
   "id": "3a731ef6",
   "metadata": {},
   "outputs": [],
   "source": [
    "# we have drawn the scatter plot, we observe that there are 3 potential clustering, We will get the clusters using the K-Means algorithm."
   ]
  },
  {
   "cell_type": "code",
   "execution_count": 8,
   "id": "af2eb5ee",
   "metadata": {},
   "outputs": [
    {
     "data": {
      "text/plain": [
       "(250, 2)"
      ]
     },
     "execution_count": 8,
     "metadata": {},
     "output_type": "execute_result"
    }
   ],
   "source": [
    "X.shape"
   ]
  },
  {
   "cell_type": "code",
   "execution_count": 9,
   "id": "724e80c6",
   "metadata": {},
   "outputs": [
    {
     "data": {
      "text/plain": [
       "(250,)"
      ]
     },
     "execution_count": 9,
     "metadata": {},
     "output_type": "execute_result"
    }
   ],
   "source": [
    "Y.shape"
   ]
  },
  {
   "cell_type": "code",
   "execution_count": 10,
   "id": "ae522536",
   "metadata": {},
   "outputs": [
    {
     "data": {
      "text/plain": [
       "array([[-1.76119294e+00, -2.04353037e+00],\n",
       "       [-2.89381065e+00,  2.42439643e-01],\n",
       "       [ 8.54386912e+00, -2.27035198e+00],\n",
       "       [ 9.02409355e+00, -1.68654217e+00],\n",
       "       [-1.49886302e+00, -1.25619576e+00],\n",
       "       [ 1.08845157e+01, -1.10016115e+00],\n",
       "       [-2.37316268e+00,  5.36467295e-01],\n",
       "       [ 1.07910939e+01, -2.89529479e-01],\n",
       "       [ 8.39128487e+00,  7.96450581e-01],\n",
       "       [ 9.59176637e+00, -7.56703449e-01],\n",
       "       [-6.33874905e+00,  5.04823265e+00],\n",
       "       [ 1.05378987e+01, -1.00877722e+00],\n",
       "       [-5.03427436e+00,  3.42450170e-01],\n",
       "       [ 9.49340064e+00, -1.45369416e+00],\n",
       "       [ 9.42344811e+00,  4.41121029e-01],\n",
       "       [ 7.64128203e+00,  1.18865245e+00],\n",
       "       [-5.94889316e+00,  5.91289389e+00],\n",
       "       [-5.02661669e+00, -1.16119294e+00],\n",
       "       [-5.48012212e+00,  5.93300029e+00],\n",
       "       [-3.20866531e+00,  2.99442489e-01],\n",
       "       [-1.89861851e+00,  9.70819413e-01],\n",
       "       [-6.15698111e+00,  6.11948052e+00],\n",
       "       [ 8.20652431e+00,  8.59530947e-01],\n",
       "       [ 6.91259415e+00, -5.74081665e-01],\n",
       "       [ 8.90577083e+00, -2.35193374e-01],\n",
       "       [-7.46231402e+00,  7.34829097e+00],\n",
       "       [-5.04623278e+00,  5.97862947e+00],\n",
       "       [-4.65850521e+00, -2.65130451e-01],\n",
       "       [-3.91659653e+00,  1.54763066e+00],\n",
       "       [-4.34199597e+00,  6.59305704e-01],\n",
       "       [-2.92501422e+00, -6.42205256e-02],\n",
       "       [ 1.22530327e+01, -2.49569770e+00],\n",
       "       [-4.41553936e+00, -4.43439541e-01],\n",
       "       [-6.71853892e+00,  6.09172773e+00],\n",
       "       [ 9.93090553e+00,  3.75601974e-01],\n",
       "       [-3.29256445e+00,  8.60009409e-02],\n",
       "       [-5.11117996e+00,  3.14166965e-01],\n",
       "       [ 9.00382426e+00, -1.47508820e-01],\n",
       "       [ 8.63179158e+00,  1.45887631e+00],\n",
       "       [-6.64522654e+00,  7.35536325e+00],\n",
       "       [ 1.08442165e+01, -5.54579483e-01],\n",
       "       [-7.82309290e+00,  8.13874256e+00],\n",
       "       [-6.13198296e+00,  1.21374363e+00],\n",
       "       [-3.06415883e+00,  2.36051549e-01],\n",
       "       [-7.20242427e+00,  6.51879143e+00],\n",
       "       [-4.01691523e+00, -1.17097794e-01],\n",
       "       [-6.11459786e+00,  9.16776190e-01],\n",
       "       [ 8.54177093e+00, -2.73978552e+00],\n",
       "       [-3.38797288e+00,  2.81098840e-01],\n",
       "       [-3.72379401e+00, -9.60610684e-01],\n",
       "       [-3.88489098e+00, -4.31490558e-01],\n",
       "       [-6.14706092e+00,  5.68093287e+00],\n",
       "       [ 8.02182892e+00, -2.51174875e-01],\n",
       "       [-6.88171191e+00,  5.87440182e+00],\n",
       "       [-6.32175927e+00,  4.84712883e+00],\n",
       "       [ 1.03924539e+01, -1.83876354e+00],\n",
       "       [-7.17928792e+00,  7.17700227e+00],\n",
       "       [ 9.96680105e+00,  4.91382630e-01],\n",
       "       [ 9.01496082e+00, -1.50309294e+00],\n",
       "       [-4.64566967e+00,  3.97010919e-01],\n",
       "       [-6.28922029e+00,  6.66287840e+00],\n",
       "       [-3.04045597e+00, -4.15089298e-01],\n",
       "       [-5.07680290e+00,  6.55443797e+00],\n",
       "       [-4.09483969e+00,  1.29264551e+00],\n",
       "       [-6.74065457e+00,  6.85806693e+00],\n",
       "       [-5.51829035e+00,  6.44634101e+00],\n",
       "       [ 1.04806779e+01, -8.45191884e-01],\n",
       "       [-5.02990610e+00,  5.85727923e+00],\n",
       "       [-5.19572427e+00,  6.87320608e-01],\n",
       "       [-6.48353013e+00,  5.62436057e+00],\n",
       "       [-7.26017805e+00,  6.76030263e+00],\n",
       "       [-4.41658762e+00,  9.23334631e-02],\n",
       "       [-4.20050440e+00,  1.87739157e+00],\n",
       "       [-2.81033642e+00, -1.54257177e+00],\n",
       "       [-3.48728605e+00,  5.83365351e-01],\n",
       "       [ 9.29016375e+00, -1.79474810e+00],\n",
       "       [ 9.51329129e+00, -1.02682184e+00],\n",
       "       [ 1.11785636e+01, -1.23238375e+00],\n",
       "       [-8.10260953e+00,  5.24322214e+00],\n",
       "       [-4.46156021e+00,  2.03668411e+00],\n",
       "       [-2.18043196e+00,  5.05013736e-01],\n",
       "       [-2.07914298e+00,  2.03221289e+00],\n",
       "       [-5.97356922e+00,  5.02452706e+00],\n",
       "       [-5.70862417e+00,  7.37606794e+00],\n",
       "       [-4.22008566e+00, -5.45005261e-03],\n",
       "       [ 9.73350501e+00, -6.82213117e-01],\n",
       "       [ 1.00945782e+01, -2.25455434e+00],\n",
       "       [-3.22360169e+00,  1.01044356e+00],\n",
       "       [-4.16513005e+00,  5.00215707e-01],\n",
       "       [-7.46160740e+00,  6.76572703e+00],\n",
       "       [-7.09035079e+00,  4.53130433e+00],\n",
       "       [-3.22100154e+00, -2.21787056e-01],\n",
       "       [-3.21419729e+00,  1.51792990e+00],\n",
       "       [ 8.21452130e+00, -4.94751656e-01],\n",
       "       [ 8.47705597e+00, -8.21416107e-01],\n",
       "       [-6.59683804e+00,  6.40884662e+00],\n",
       "       [-5.77785785e+00,  6.90495031e+00],\n",
       "       [ 8.30847595e+00,  3.25235703e-01],\n",
       "       [ 8.56599556e+00, -1.47423037e+00],\n",
       "       [-3.05345084e+00, -1.15467574e+00],\n",
       "       [ 8.85887910e+00, -2.01565957e+00],\n",
       "       [-7.50886351e+00,  6.35193511e+00],\n",
       "       [-7.78880059e+00,  5.43176103e+00],\n",
       "       [ 1.00595690e+01,  4.37120005e-01],\n",
       "       [ 1.05092398e+01, -6.61243062e-01],\n",
       "       [-4.52592902e+00,  1.02054302e+00],\n",
       "       [ 1.31939481e+01, -1.00813124e+00],\n",
       "       [ 8.86924498e+00, -7.59008906e-01],\n",
       "       [ 9.52796997e+00, -4.82813293e-01],\n",
       "       [ 9.54830064e+00,  7.76847174e-01],\n",
       "       [-3.04076023e+00, -6.06002677e-01],\n",
       "       [ 8.23074667e+00,  4.22444635e-02],\n",
       "       [ 8.82368829e+00, -3.32504329e-01],\n",
       "       [-5.97552152e+00,  6.85165613e+00],\n",
       "       [-1.90008878e+00,  1.77627663e-01],\n",
       "       [-7.53436357e+00,  6.51188404e+00],\n",
       "       [-3.73775698e+00, -2.66570708e-02],\n",
       "       [-8.73693904e+00,  6.78523985e+00],\n",
       "       [ 1.16899716e+01, -5.50503973e-01],\n",
       "       [ 1.10638092e+01, -1.32699772e+00],\n",
       "       [-2.86044290e+00,  1.11825262e+00],\n",
       "       [ 1.03591774e+01, -8.24879245e-01],\n",
       "       [-3.75901810e+00,  3.75784850e-01],\n",
       "       [-4.60723415e+00,  5.61962938e-01],\n",
       "       [-5.21676944e+00,  4.78249044e+00],\n",
       "       [-6.95266100e+00,  6.98436458e+00],\n",
       "       [-3.03485464e+00,  7.01509907e-01],\n",
       "       [-3.20212361e+00, -8.27142700e-01],\n",
       "       [-4.51181749e+00,  1.79096362e+00],\n",
       "       [-7.73434718e+00,  6.86947255e+00],\n",
       "       [-3.86387103e+00, -4.66678027e-01],\n",
       "       [-6.48124892e+00,  4.12255028e+00],\n",
       "       [ 1.14453594e+01,  6.04169422e-01],\n",
       "       [-7.42197506e+00,  5.11782243e+00],\n",
       "       [-7.50216660e+00,  5.95448432e+00],\n",
       "       [-5.66027883e+00,  6.98305033e+00],\n",
       "       [ 1.02209916e+01, -4.86020202e-01],\n",
       "       [-3.98860210e+00, -6.84261197e-01],\n",
       "       [-4.86734506e+00, -2.97280809e-01],\n",
       "       [-5.56491824e+00,  4.27604060e-02],\n",
       "       [-4.32850528e+00, -3.25461601e-01],\n",
       "       [-7.83800894e+00,  6.26600953e+00],\n",
       "       [-5.96989860e+00,  8.62961622e+00],\n",
       "       [-3.10951472e+00,  5.70257796e-01],\n",
       "       [ 8.35018409e+00,  6.33007992e-02],\n",
       "       [-2.54184033e+00,  1.77200470e+00],\n",
       "       [-6.71805559e+00,  6.60476732e+00],\n",
       "       [-6.60625342e+00,  6.35995487e+00],\n",
       "       [ 8.84309524e+00, -9.84716443e-01],\n",
       "       [-6.21654393e+00,  7.28345141e+00],\n",
       "       [-2.68557300e+00, -6.53601910e-01],\n",
       "       [-4.11184076e+00,  4.12242219e-01],\n",
       "       [ 8.88487687e+00, -1.76259872e+00],\n",
       "       [-7.01802498e+00,  5.43058063e+00],\n",
       "       [-4.91900487e+00, -3.32597044e-01],\n",
       "       [ 7.86711125e+00,  7.46676298e-01],\n",
       "       [-7.53615146e+00,  7.76995685e+00],\n",
       "       [-4.64362577e+00,  8.16471179e+00],\n",
       "       [ 9.06802959e+00, -1.76812903e+00],\n",
       "       [-3.63483092e+00,  7.28643573e-01],\n",
       "       [ 8.99248599e+00, -3.81975061e-01],\n",
       "       [ 9.83715091e+00, -8.46685185e-01],\n",
       "       [ 1.05245650e+01, -9.76967240e-01],\n",
       "       [-7.30269898e+00,  6.42557839e+00],\n",
       "       [ 9.11801756e+00, -2.28397987e+00],\n",
       "       [-3.88440983e+00,  9.39910994e-01],\n",
       "       [-5.34820110e+00,  6.38330883e+00],\n",
       "       [ 7.92977621e+00, -2.22883536e+00],\n",
       "       [-6.59771821e+00,  8.29183724e+00],\n",
       "       [ 1.05311915e+01, -1.54896067e+00],\n",
       "       [-4.25898127e+00, -2.89708239e-01],\n",
       "       [-7.88063940e+00,  3.81212201e+00],\n",
       "       [ 9.41812524e+00,  5.06673344e-02],\n",
       "       [-6.87516614e+00,  5.91700830e+00],\n",
       "       [ 1.05667335e+01, -4.73203027e-01],\n",
       "       [-3.65691894e+00, -2.31958661e+00],\n",
       "       [ 9.35631530e+00, -1.44803547e+00],\n",
       "       [ 8.44506789e+00,  5.63665309e-01],\n",
       "       [ 9.86910644e+00,  1.34071623e+00],\n",
       "       [-6.52163120e+00,  7.48031525e+00],\n",
       "       [-5.36420908e+00, -1.28028611e+00],\n",
       "       [-6.64379486e+00,  3.98895622e+00],\n",
       "       [-6.97110567e+00,  6.53490542e+00],\n",
       "       [-6.18684640e+00,  5.59278954e+00],\n",
       "       [-1.54088147e+00,  6.44112394e-01],\n",
       "       [ 1.00924180e+01,  8.61958804e-01],\n",
       "       [-1.21544171e+00, -2.36137074e+00],\n",
       "       [-5.81736796e+00,  4.82005277e+00],\n",
       "       [-7.52068940e+00,  5.88296741e+00],\n",
       "       [-5.43963944e+00,  9.54840120e-01],\n",
       "       [-4.79126425e+00, -7.33506465e-01],\n",
       "       [-7.24817201e+00,  7.83146776e+00],\n",
       "       [-5.55205095e+00, -6.66297703e-02],\n",
       "       [ 9.59379944e+00, -1.70925426e+00],\n",
       "       [-6.64694906e+00,  4.44276004e+00],\n",
       "       [-5.55463618e+00,  7.55587251e+00],\n",
       "       [-4.84243670e+00, -2.12666961e-01],\n",
       "       [-2.57550689e+00, -1.08282045e+00],\n",
       "       [-7.22976428e+00,  6.91172476e+00],\n",
       "       [-5.96279537e+00,  6.53965700e+00],\n",
       "       [ 8.22791246e+00, -7.72526653e-02],\n",
       "       [-5.69778839e+00,  7.42502688e+00],\n",
       "       [-6.24115495e+00,  7.09821302e+00],\n",
       "       [-6.86291011e+00,  6.02802748e+00],\n",
       "       [ 9.14792559e+00,  3.50710502e-01],\n",
       "       [-5.12449649e+00,  6.61705098e+00],\n",
       "       [-5.74006361e+00,  6.13199544e+00],\n",
       "       [ 1.01185706e+01,  7.70164595e-01],\n",
       "       [-5.90108224e+00,  5.21672420e+00],\n",
       "       [-5.65888518e+00,  6.82548982e+00],\n",
       "       [-7.38785057e+00,  5.37101273e+00],\n",
       "       [ 8.70025434e+00,  4.04847161e-01],\n",
       "       [-7.45936026e+00,  4.54785881e+00],\n",
       "       [ 8.71850033e+00, -2.23699065e+00],\n",
       "       [-6.87643393e+00,  3.49899699e+00],\n",
       "       [-3.81085187e+00,  7.31798715e-01],\n",
       "       [-2.70329283e+00, -1.06579415e-01],\n",
       "       [ 8.64671528e+00, -1.54208905e-01],\n",
       "       [ 9.63916138e+00, -1.94633234e+00],\n",
       "       [ 9.28649945e+00,  9.56798234e-01],\n",
       "       [-6.36328791e+00,  5.18852399e+00],\n",
       "       [-3.74957581e+00,  1.04673923e+00],\n",
       "       [ 9.97300124e+00,  4.02036897e-01],\n",
       "       [-6.28760818e+00,  7.06106413e+00],\n",
       "       [ 7.37345363e+00, -4.16797064e-01],\n",
       "       [ 1.05006236e+01, -8.18181140e-01],\n",
       "       [ 8.44097949e+00,  4.71073678e-01],\n",
       "       [-6.02810850e+00,  6.29443659e+00],\n",
       "       [ 9.41636351e+00,  7.01852311e-01],\n",
       "       [-7.71964109e+00,  6.94390427e+00],\n",
       "       [-4.35307022e+00,  7.85494667e-01],\n",
       "       [-8.05838497e+00,  6.39010540e+00],\n",
       "       [ 8.99503509e+00, -9.85846375e-01],\n",
       "       [-7.41910063e+00,  6.01846768e+00],\n",
       "       [-1.73515238e+00,  1.31752970e+00],\n",
       "       [-2.55996018e+00,  1.20420693e+00],\n",
       "       [ 8.27633709e+00,  4.47811663e-01],\n",
       "       [ 8.74846458e+00, -4.87417892e-01],\n",
       "       [-2.94694606e+00, -7.78562639e-01],\n",
       "       [-2.17153094e+00,  7.62799162e-01],\n",
       "       [ 8.99860158e+00, -4.99714819e-01],\n",
       "       [-6.10855890e+00,  6.74059406e+00],\n",
       "       [-3.88103482e+00,  1.02480125e+00],\n",
       "       [-5.67488886e+00,  5.30540495e+00],\n",
       "       [-5.24319529e+00,  6.41901464e-01],\n",
       "       [-3.39496289e+00,  5.33672316e-01],\n",
       "       [ 9.33555637e+00,  9.81570473e-01],\n",
       "       [ 1.14335338e+01,  5.09852895e-01],\n",
       "       [-3.34411947e+00, -7.01543572e-01],\n",
       "       [-5.55948636e+00,  5.57639555e+00]])"
      ]
     },
     "execution_count": 10,
     "metadata": {},
     "output_type": "execute_result"
    }
   ],
   "source": [
    "X"
   ]
  },
  {
   "cell_type": "code",
   "execution_count": 12,
   "id": "cf236bb7",
   "metadata": {},
   "outputs": [],
   "source": [
    "from sklearn.cluster import KMeans"
   ]
  },
  {
   "cell_type": "code",
   "execution_count": 13,
   "id": "758acd32",
   "metadata": {},
   "outputs": [],
   "source": [
    "wcss=[]\n",
    "for i in range(2,10):\n",
    "   km = KMeans(n_clusters=i)\n",
    "   km.fit(X)\n",
    "   wcss.append(km.inertia_)"
   ]
  },
  {
   "cell_type": "markdown",
   "id": "05c3b505",
   "metadata": {},
   "source": [
    "### For each value of K, we are calculating WCSS ( Within-Cluster Sum of Square ). WCSS is the sum of squared distance between each point and the centroid in a cluster. When we plot the WCSS with the K value, the plot looks like an Elbow. As the number of clusters increases, the WCSS value will start to decrease. WCSS value is largest when K = 1. When we analyze the graph we can see that the graph will rapidly change at a point and thus creating an elbow shape. From this point, the graph starts to move almost parallel to the X-axis. The K value corresponding to this point is the optimal K value or an optimal number of clusters."
   ]
  },
  {
   "cell_type": "code",
   "execution_count": 72,
   "id": "ac389fab",
   "metadata": {
    "scrolled": true
   },
   "outputs": [
    {
     "data": {
      "text/plain": [
       "[4249.291714564379,\n",
       " 515.4252604473431,\n",
       " 449.7959193990946,\n",
       " 386.84021954176933,\n",
       " 327.0804755131141,\n",
       " 281.1028000735615,\n",
       " 247.21260771583906,\n",
       " 207.8503899771202]"
      ]
     },
     "execution_count": 72,
     "metadata": {},
     "output_type": "execute_result"
    }
   ],
   "source": [
    "wcss"
   ]
  },
  {
   "cell_type": "markdown",
   "id": "51ad924a",
   "metadata": {},
   "source": [
    "## Elbow plot with different values of K"
   ]
  },
  {
   "cell_type": "code",
   "execution_count": 14,
   "id": "0898bf5a",
   "metadata": {
    "scrolled": true
   },
   "outputs": [
    {
     "data": {
      "text/plain": [
       "Text(0, 0.5, 'wcss')"
      ]
     },
     "execution_count": 14,
     "metadata": {},
     "output_type": "execute_result"
    },
    {
     "data": {
      "image/png": "[encoded data removed]",
      "text/plain": [
       "<Figure size 432x288 with 1 Axes>"
      ]
     },
     "metadata": {
      "needs_background": "light"
     },
     "output_type": "display_data"
    }
   ],
   "source": [
    "plt.plot(range(2,10),wcss)\n",
    "plt.xlabel(\"K_value\")\n",
    "plt.ylabel(\"wcss\")"
   ]
  },
  {
   "cell_type": "markdown",
   "id": "9eefa848",
   "metadata": {},
   "source": [
    "## Making new model using K=3 as  we see from the above graph that elbow is seen at K=3"
   ]
  },
  {
   "cell_type": "code",
   "execution_count": 15,
   "id": "196082f5",
   "metadata": {},
   "outputs": [],
   "source": [
    "new_km=KMeans(n_clusters=3)"
   ]
  },
  {
   "cell_type": "code",
   "execution_count": 16,
   "id": "bcefd37b",
   "metadata": {},
   "outputs": [],
   "source": [
    "X_new=new_km.fit_predict(X)"
   ]
  },
  {
   "cell_type": "code",
   "execution_count": 17,
   "id": "23d0786c",
   "metadata": {},
   "outputs": [
    {
     "data": {
      "text/plain": [
       "array([0, 0, 1, 1, 0, 1, 0, 1, 1, 1, 2, 1, 0, 1, 1, 1, 2, 0, 2, 0, 0, 2,\n",
       "       1, 1, 1, 2, 2, 0, 0, 0, 0, 1, 0, 2, 1, 0, 0, 1, 1, 2, 1, 2, 0, 0,\n",
       "       2, 0, 0, 1, 0, 0, 0, 2, 1, 2, 2, 1, 2, 1, 1, 0, 2, 0, 2, 0, 2, 2,\n",
       "       1, 2, 0, 2, 2, 0, 0, 0, 0, 1, 1, 1, 2, 0, 0, 0, 2, 2, 0, 1, 1, 0,\n",
       "       0, 2, 2, 0, 0, 1, 1, 2, 2, 1, 1, 0, 1, 2, 2, 1, 1, 0, 1, 1, 1, 1,\n",
       "       0, 1, 1, 2, 0, 2, 0, 2, 1, 1, 0, 1, 0, 0, 2, 2, 0, 0, 0, 2, 0, 2,\n",
       "       1, 2, 2, 2, 1, 0, 0, 0, 0, 2, 2, 0, 1, 0, 2, 2, 1, 2, 0, 0, 1, 2,\n",
       "       0, 1, 2, 2, 1, 0, 1, 1, 1, 2, 1, 0, 2, 1, 2, 1, 0, 2, 1, 2, 1, 0,\n",
       "       1, 1, 1, 2, 0, 2, 2, 2, 0, 1, 0, 2, 2, 0, 0, 2, 0, 1, 2, 2, 0, 0,\n",
       "       2, 2, 1, 2, 2, 2, 1, 2, 2, 1, 2, 2, 2, 1, 2, 1, 2, 0, 0, 1, 1, 1,\n",
       "       2, 0, 1, 2, 1, 1, 1, 2, 1, 2, 0, 2, 1, 2, 0, 0, 1, 1, 0, 0, 1, 2,\n",
       "       0, 2, 0, 0, 1, 1, 0, 2])"
      ]
     },
     "execution_count": 17,
     "metadata": {},
     "output_type": "execute_result"
    }
   ],
   "source": [
    "X_new"
   ]
  },
  {
   "cell_type": "markdown",
   "id": "8a232709",
   "metadata": {},
   "source": [
    "### We got the different clusters as different classes in X_new as the result"
   ]
  },
  {
   "cell_type": "markdown",
   "id": "5e37a910",
   "metadata": {},
   "source": [
    "#### We can see how well the algorithm classified  the different classes in the scatter  plot below"
   ]
  },
  {
   "cell_type": "code",
   "execution_count": 18,
   "id": "c99e52b3",
   "metadata": {},
   "outputs": [
    {
     "data": {
      "image/png": "[encoded data removed]",
      "text/plain": [
       "<Figure size 432x288 with 1 Axes>"
      ]
     },
     "metadata": {
      "needs_background": "light"
     },
     "output_type": "display_data"
    }
   ],
   "source": [
    "plt.scatter(X[X_new==0][:,0],X[X_new==0][:,1])\n",
    "plt.scatter(X[X_new==1][:,0],X[X_new==1][:,1])\n",
    "plt.scatter(X[X_new==2][:,0],X[X_new==2][:,1])\n",
    "plt.show()\n"
   ]
  }
 ],
 "metadata": {
  "kernelspec": {
   "display_name": "Python 3",
   "language": "python",
   "name": "python3"
  },
  "language_info": {
   "codemirror_mode": {
    "name": "ipython",
    "version": 3
   },
   "file_extension": ".py",
   "mimetype": "text/x-python",
   "name": "python",
   "nbconvert_exporter": "python",
   "pygments_lexer": "ipython3",
   "version": "3.8.8"
  }
 },
 "nbformat": 4,
 "nbformat_minor": 5
}
